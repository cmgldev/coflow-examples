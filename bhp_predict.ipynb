{
  "nbformat": 4,
  "nbformat_minor": 0,
  "metadata": {
    "colab": {
      "provenance": []
    },
    "kernelspec": {
      "name": "python3",
      "display_name": "Python 3"
    },
    "language_info": {
      "name": "python"
    }
  },
  "cells": [
    {
      "cell_type": "code",
      "execution_count": null,
      "metadata": {
        "id": "ImFs0M78xDWt"
      },
      "outputs": [],
      "source": [
        "import sys\n",
        "!wget https://raw.githubusercontent.com/cmgldev/coflow-examples/refs/heads/main/coflow.py\n",
        "import coflow"
      ]
    },
    {
      "cell_type": "code",
      "source": [
        "# The following must be set before running\n",
        "tenant_url = \"\"\n",
        "project = \"\"\n",
        "release = \"\"\n",
        "model_path = \"\""
      ],
      "metadata": {
        "id": "A7OgbIog1Biq"
      },
      "execution_count": null,
      "outputs": []
    },
    {
      "cell_type": "code",
      "source": [
        "api_key=\"\""
      ],
      "metadata": {
        "id": "x6ASCX9_0x0N"
      },
      "execution_count": null,
      "outputs": []
    },
    {
      "cell_type": "code",
      "source": [
        "client = coflow.CoFlow(\n",
        "    f\"{tenant_url}/api/projects/{project}/releases/{release}\",\n",
        "    api_key)"
      ],
      "metadata": {
        "id": "0VSglBZm0oG0"
      },
      "execution_count": null,
      "outputs": []
    },
    {
      "cell_type": "code",
      "source": [
        "# The model path is composed of the repository name (always\n",
        "# default in cloud native), the CoFlow project and study.\n",
        "\n"
      ],
      "metadata": {
        "id": "Rtv7ggZ61POL"
      },
      "execution_count": null,
      "outputs": []
    },
    {
      "cell_type": "code",
      "source": [
        "# Values in CoFlow can be get/set using a URL like\n",
        "# path (called soft references). We map a tag (e.g. \"gas_rate\") to the\n",
        "# full path and associated unit in order to simplify access later\n",
        "network_prefix = \"Networks/Well Model/NetworkObjects\"\n",
        "input_defs = {\n",
        "    \"gas_rate\": {\n",
        "        \"path\": f\"{network_prefix}/Gas/Outlet/Gas Rate SC Inst\",\n",
        "        \"unit\": \"MMSCF/day\"\n",
        "    },\n",
        "    \"oil_rate\": {\n",
        "        \"path\": f\"{network_prefix}/Oil/Outlet/Oil Rate SC Inst\",\n",
        "        \"unit\": \"STB/day\",\n",
        "    },\n",
        "    \"water_rate\": {\n",
        "        \"path\": f\"{network_prefix}/Water/Outlet/Water Rate SC Inst\",\n",
        "        \"unit\": \"STB/day\",\n",
        "    },\n",
        "    \"outlet_pressure\": {\n",
        "        \"path\": f\"{network_prefix}/Pipe/Outlet/Pressure\",\n",
        "        \"unit\": \"psi\",\n",
        "    }\n",
        "}\n"
      ],
      "metadata": {
        "id": "OOij1XP11QZK"
      },
      "execution_count": null,
      "outputs": []
    },
    {
      "cell_type": "code",
      "source": [
        "# Similarly, the \"bhp\" tag is mapped to the associated path in CoFlow\n",
        "# with the associated unit of measure (psi in this case). Note that\n",
        "# CoFlow accept inputs / provide outputs in other units as needed\n",
        "# but the name needs to be an exact match (e.g pressure in kPA, MPA or GPA)\n",
        "output_defs = {\n",
        "    \"bhp\": {\n",
        "        \"path\": f\"{network_prefix}/bhp/Outlet/Pressure\",\n",
        "        \"unit\": \"psi\",\n",
        "    },\n",
        "}\n"
      ],
      "metadata": {
        "id": "YwyzlnKP1XIb"
      },
      "execution_count": null,
      "outputs": []
    },
    {
      "cell_type": "code",
      "source": [
        "# Using the above parts, we compose the steady state model\n",
        "model = coflow.SteadyStateModel(\n",
        "    client,\n",
        "    model_path,\n",
        "    input_defs,\n",
        "    output_defs,\n",
        ")\n"
      ],
      "metadata": {
        "id": "IeGHhOOB3K5h"
      },
      "execution_count": null,
      "outputs": []
    },
    {
      "cell_type": "code",
      "source": [
        "# We can now set some actual input values based on the tags and using\n",
        "# the units of measure that we defined above.\n",
        "input = {\n",
        "    \"oil_rate\": 435.394,\n",
        "    \"gas_rate\": 2.59,\n",
        "    \"water_rate\": 3418.68,\n",
        "    \"outlet_pressure\": 2667.761,\n",
        "}"
      ],
      "metadata": {
        "id": "NA1uXyRG3m0F"
      },
      "execution_count": null,
      "outputs": []
    },
    {
      "cell_type": "code",
      "source": [
        "# We now run the model. This will:\n",
        "# 1) Provision needed resources in AWS\n",
        "# 2) Load the model\n",
        "# 3) Run the simulation\n",
        "# 4) Release AWS resources\n",
        "output = model.run(input)"
      ],
      "metadata": {
        "id": "nIm8S2jq4KfP"
      },
      "execution_count": null,
      "outputs": []
    },
    {
      "cell_type": "code",
      "source": [
        "# Data is now available and can be used for any purpose. Here\n",
        "# we merely print it out\n",
        "bhp = output[\"bhp\"]\n",
        "print(output)"
      ],
      "metadata": {
        "id": "-H_RSAXS5DzV"
      },
      "execution_count": null,
      "outputs": []
    }
  ]
}
